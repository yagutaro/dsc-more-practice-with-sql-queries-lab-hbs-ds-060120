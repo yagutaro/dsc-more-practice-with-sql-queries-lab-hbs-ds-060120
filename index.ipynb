{
 "cells": [
  {
   "cell_type": "markdown",
   "metadata": {},
   "source": [
    "# More Practice With SQL Queries - Lab\n",
    "\n",
    "## Introduction\n",
    "\n",
    "In this lesson, we'll run through some practice questions to refresh your knowledge of SQL Queries!\n",
    "\n",
    "## Objectives\n",
    "\n",
    "You will be able to:\n",
    "\n",
    "- Use `GROUP BY` statements in SQL to apply aggregate functions like: `COUNT`, `MAX`, `MIN`, and `SUM`\n",
    "- Decide and perform whichever type of join is best for retrieving desired data\n",
    "- Use the `HAVING` clause to compare different aggregates\n",
    "- Write subqueries to decompose complex queries\n",
    "\n",
    "## Getting Started\n",
    "\n",
    "As in previous labs, we'll make use of the `sqlite3` library as well as Pandas. By combining them, we'll be able to write queries as Python strings, and make sure that the results are always returned as a Pandas DataFrame. \n",
    "\n",
    "We'll start by loading both libraries and connecting to the database we'll be using for this lab, `data.sqlite`. You may remember this database from a previous lab. As a refresher, here's the ERD diagram for this database: \n",
    "\n",
    "<img src='images/Database-Schema.png'>\n",
    "\n",
    "In the cell below:\n",
    "\n",
    "* Import the necessary libraries `pandas` and `sqlite3` \n",
    "* Establish a connection to the database `data.sqlite` \n",
    "* Get the `cursor` from the connection and store it in the variable `c` "
   ]
  },
  {
   "cell_type": "code",
   "execution_count": 1,
   "metadata": {},
   "outputs": [],
   "source": [
    "import pandas as pd\n",
    "import sqlite3\n",
    "\n",
    "conn = sqlite3.connect('data.sqlite')\n",
    "cur = conn.cursor()"
   ]
  },
  {
   "cell_type": "markdown",
   "metadata": {},
   "source": [
    "## Basic Queries\n",
    "\n",
    "Now, let's review basic SQL queries. In the cell below:\n",
    "\n",
    "Write a query that gets the first name, last name, phone number, address, and credit limit for all customers in California with a credit limit greater than 25000.00. "
   ]
  },
  {
   "cell_type": "code",
   "execution_count": 4,
   "metadata": {},
   "outputs": [
    {
     "data": {
      "text/html": [
       "<div>\n",
       "<style scoped>\n",
       "    .dataframe tbody tr th:only-of-type {\n",
       "        vertical-align: middle;\n",
       "    }\n",
       "\n",
       "    .dataframe tbody tr th {\n",
       "        vertical-align: top;\n",
       "    }\n",
       "\n",
       "    .dataframe thead th {\n",
       "        text-align: right;\n",
       "    }\n",
       "</style>\n",
       "<table border=\"1\" class=\"dataframe\">\n",
       "  <thead>\n",
       "    <tr style=\"text-align: right;\">\n",
       "      <th></th>\n",
       "      <th>contactFirstName</th>\n",
       "      <th>contactLastName</th>\n",
       "      <th>phone</th>\n",
       "      <th>addressLine1</th>\n",
       "      <th>creditLimit</th>\n",
       "    </tr>\n",
       "  </thead>\n",
       "  <tbody>\n",
       "    <tr>\n",
       "      <td>0</td>\n",
       "      <td>Susan</td>\n",
       "      <td>Nelson</td>\n",
       "      <td>4155551450</td>\n",
       "      <td>5677 Strong St.</td>\n",
       "      <td>210500</td>\n",
       "    </tr>\n",
       "    <tr>\n",
       "      <td>1</td>\n",
       "      <td>Julie</td>\n",
       "      <td>Murphy</td>\n",
       "      <td>6505555787</td>\n",
       "      <td>5557 North Pendale Street</td>\n",
       "      <td>64600</td>\n",
       "    </tr>\n",
       "    <tr>\n",
       "      <td>2</td>\n",
       "      <td>Juri</td>\n",
       "      <td>Hashimoto</td>\n",
       "      <td>6505556809</td>\n",
       "      <td>9408 Furth Circle</td>\n",
       "      <td>84600</td>\n",
       "    </tr>\n",
       "    <tr>\n",
       "      <td>3</td>\n",
       "      <td>Julie</td>\n",
       "      <td>Young</td>\n",
       "      <td>6265557265</td>\n",
       "      <td>78934 Hillside Dr.</td>\n",
       "      <td>90700</td>\n",
       "    </tr>\n",
       "    <tr>\n",
       "      <td>4</td>\n",
       "      <td>Valarie</td>\n",
       "      <td>Thompson</td>\n",
       "      <td>7605558146</td>\n",
       "      <td>361 Furth Circle</td>\n",
       "      <td>105000</td>\n",
       "    </tr>\n",
       "    <tr>\n",
       "      <td>5</td>\n",
       "      <td>Julie</td>\n",
       "      <td>Brown</td>\n",
       "      <td>6505551386</td>\n",
       "      <td>7734 Strong St.</td>\n",
       "      <td>105000</td>\n",
       "    </tr>\n",
       "    <tr>\n",
       "      <td>6</td>\n",
       "      <td>Brian</td>\n",
       "      <td>Chandler</td>\n",
       "      <td>2155554369</td>\n",
       "      <td>6047 Douglas Av.</td>\n",
       "      <td>57700</td>\n",
       "    </tr>\n",
       "    <tr>\n",
       "      <td>7</td>\n",
       "      <td>Sue</td>\n",
       "      <td>Frick</td>\n",
       "      <td>4085553659</td>\n",
       "      <td>3086 Ingle Ln.</td>\n",
       "      <td>77600</td>\n",
       "    </tr>\n",
       "    <tr>\n",
       "      <td>8</td>\n",
       "      <td>Steve</td>\n",
       "      <td>Thompson</td>\n",
       "      <td>3105553722</td>\n",
       "      <td>3675 Furth Circle</td>\n",
       "      <td>55400</td>\n",
       "    </tr>\n",
       "    <tr>\n",
       "      <td>9</td>\n",
       "      <td>Sue</td>\n",
       "      <td>Taylor</td>\n",
       "      <td>4155554312</td>\n",
       "      <td>2793 Furth Circle</td>\n",
       "      <td>60300</td>\n",
       "    </tr>\n",
       "  </tbody>\n",
       "</table>\n",
       "</div>"
      ],
      "text/plain": [
       "  contactFirstName contactLastName       phone               addressLine1  \\\n",
       "0            Susan          Nelson  4155551450            5677 Strong St.   \n",
       "1            Julie          Murphy  6505555787  5557 North Pendale Street   \n",
       "2             Juri       Hashimoto  6505556809          9408 Furth Circle   \n",
       "3            Julie           Young  6265557265         78934 Hillside Dr.   \n",
       "4          Valarie        Thompson  7605558146           361 Furth Circle   \n",
       "5            Julie           Brown  6505551386            7734 Strong St.   \n",
       "6            Brian        Chandler  2155554369           6047 Douglas Av.   \n",
       "7              Sue           Frick  4085553659             3086 Ingle Ln.   \n",
       "8            Steve        Thompson  3105553722          3675 Furth Circle   \n",
       "9              Sue          Taylor  4155554312          2793 Furth Circle   \n",
       "\n",
       "   creditLimit  \n",
       "0       210500  \n",
       "1        64600  \n",
       "2        84600  \n",
       "3        90700  \n",
       "4       105000  \n",
       "5       105000  \n",
       "6        57700  \n",
       "7        77600  \n",
       "8        55400  \n",
       "9        60300  "
      ]
     },
     "execution_count": 4,
     "metadata": {},
     "output_type": "execute_result"
    }
   ],
   "source": [
    "# For the first query, the boilerplate for getting \n",
    "# the query into a DataFrame has been provided for you\n",
    "cur.execute(\"\"\"SELECT contactFirstName, contactLastName, phone, addressLine1, creditLimit\n",
    "               FROM customers\n",
    "               WHERE state = 'CA' AND creditLimit > 25000\n",
    "\"\"\")\n",
    "df = pd.DataFrame(cur.fetchall())\n",
    "df.columns = [x[0] for x in cur.description]\n",
    "df"
   ]
  },
  {
   "cell_type": "markdown",
   "metadata": {},
   "source": [
    "#### Expected Output\n",
    "\n",
    "<img src='images/expected-output-1.png'>\n",
    "\n",
    "## Aggregate Functions and GROUP BY\n",
    "\n",
    "Next, write a query that gets the average credit limit per state."
   ]
  },
  {
   "cell_type": "code",
   "execution_count": null,
   "metadata": {},
   "outputs": [],
   "source": [
    "cur.execute('''SELECT AVG(creditLimit)\n",
    "               FROM customers\n",
    "               GROUP BY state\n",
    "''')\n",
    "df = pd.DataFrame(cur.fetchall())\n",
    "df.columns = [x[0] for x in cur.description]\n",
    "d"
   ]
  },
  {
   "cell_type": "markdown",
   "metadata": {},
   "source": [
    "#### Expected Output\n",
    "\n",
    "<img src='images/expected-output-2.png'>\n",
    "\n",
    "## JOINs\n",
    "\n",
    "Now, write a query that uses JOIN statements to get the customer name, customer number, order number, status, and quantity ordered. Print only the head of this DataFrame. "
   ]
  },
  {
   "cell_type": "code",
   "execution_count": null,
   "metadata": {},
   "outputs": [],
   "source": []
  },
  {
   "cell_type": "markdown",
   "metadata": {},
   "source": [
    "#### Expected Output\n",
    "\n",
    "<img src='images/joins.png' width='500' height='600'> \n",
    "\n",
    "## HAVING and ORDER BY\n",
    "\n",
    "Now, return the customerName, customerNumber, productName, productCode, and total number ordered for any product a customer has bought 10 or more of cumulatively. Sort the rows in descending order by the quantity ordered. \n",
    "\n",
    "**_Hint_**: For this one, you'll need to make use of HAVING, GROUP BY, and ORDER BY -- make sure you get the order of them correct!"
   ]
  },
  {
   "cell_type": "code",
   "execution_count": null,
   "metadata": {},
   "outputs": [],
   "source": []
  },
  {
   "cell_type": "markdown",
   "metadata": {},
   "source": [
    "#### Expected Output\n",
    "\n",
    "<img src='images/having_order.png'>\n",
    "\n",
    "## Subqueries\n",
    "\n",
    "Finally, get the first name, last name, employee number, and office code for employees from offices with less than 5 employees. Print the first five rows of this DataFrame. "
   ]
  },
  {
   "cell_type": "code",
   "execution_count": null,
   "metadata": {},
   "outputs": [],
   "source": []
  },
  {
   "cell_type": "markdown",
   "metadata": {},
   "source": [
    "#### Expected Output\n",
    "\n",
    "<img src='images/expected-output-5.png'>\n",
    "\n",
    "# Summary\n",
    "\n",
    "In this lesson, we reviewed all the major concepts and keywords associated with SQL queries!"
   ]
  }
 ],
 "metadata": {
  "kernelspec": {
   "display_name": "Python 3",
   "language": "python",
   "name": "python3"
  },
  "language_info": {
   "codemirror_mode": {
    "name": "ipython",
    "version": 3
   },
   "file_extension": ".py",
   "mimetype": "text/x-python",
   "name": "python",
   "nbconvert_exporter": "python",
   "pygments_lexer": "ipython3",
   "version": "3.6.9"
  }
 },
 "nbformat": 4,
 "nbformat_minor": 2
}
